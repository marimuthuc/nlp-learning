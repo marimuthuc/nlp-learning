{
  "nbformat": 4,
  "nbformat_minor": 0,
  "metadata": {
    "colab": {
      "name": "rp-nltk.ipynb",
      "provenance": [],
      "collapsed_sections": [],
      "include_colab_link": true
    },
    "kernelspec": {
      "name": "python3",
      "display_name": "Python 3"
    },
    "language_info": {
      "name": "python"
    }
  },
  "cells": [
    {
      "cell_type": "markdown",
      "metadata": {
        "id": "view-in-github",
        "colab_type": "text"
      },
      "source": [
        "<a href=\"https://colab.research.google.com/github/marimuthuc/nlp-learning/blob/main/rp_nltk.ipynb\" target=\"_parent\"><img src=\"https://colab.research.google.com/assets/colab-badge.svg\" alt=\"Open In Colab\"/></a>"
      ]
    },
    {
      "cell_type": "markdown",
      "metadata": {
        "id": "Nhom1FsaBJF0"
      },
      "source": [
        "#Basics of NLP with NLTK Library\n",
        "This notebook explores the basics concepts like tokenizing, lemmatizing, stemming, etc with the help of NLTK library. \n",
        "> Reference: https://realpython.com/nltk-nlp-python/\n",
        "## Tokenizing\n",
        "> Splitting the text either by `word` or `sentence`."
      ]
    },
    {
      "cell_type": "code",
      "metadata": {
        "id": "aV3_f2xtAq6t",
        "colab": {
          "base_uri": "https://localhost:8080/"
        },
        "outputId": "5458fe4f-a938-4141-d7cb-037ba848b689"
      },
      "source": [
        "# Import Libraries\n",
        "import nltk\n",
        "nltk.download('punkt')\n",
        "from nltk.tokenize import sent_tokenize, word_tokenize"
      ],
      "execution_count": 1,
      "outputs": [
        {
          "output_type": "stream",
          "name": "stdout",
          "text": [
            "[nltk_data] Downloading package punkt to /root/nltk_data...\n",
            "[nltk_data]   Unzipping tokenizers/punkt.zip.\n"
          ]
        }
      ]
    },
    {
      "cell_type": "code",
      "metadata": {
        "colab": {
          "base_uri": "https://localhost:8080/"
        },
        "id": "rTjy-GJpzvgY",
        "outputId": "0ec043c7-bbf0-4914-ec3c-8ae51d7c5047"
      },
      "source": [
        "# word Tokenizing\n",
        "word_text = \"Words are like the atoms of natural language. They’re the smallest unit of meaning that still makes sense on its own. Tokenizing your text by word allows you to identify words that come up particularly often. For example, if you were analyzing a group of job ads, then you might find that the word “Python” comes up often. That could suggest high demand for Python knowledge, but you’d need to look deeper to know more.\"\n",
        "words = word_tokenize(word_text)\n",
        "print(words)\n",
        "len(words)"
      ],
      "execution_count": 2,
      "outputs": [
        {
          "output_type": "stream",
          "name": "stdout",
          "text": [
            "['Words', 'are', 'like', 'the', 'atoms', 'of', 'natural', 'language', '.', 'They', '’', 're', 'the', 'smallest', 'unit', 'of', 'meaning', 'that', 'still', 'makes', 'sense', 'on', 'its', 'own', '.', 'Tokenizing', 'your', 'text', 'by', 'word', 'allows', 'you', 'to', 'identify', 'words', 'that', 'come', 'up', 'particularly', 'often', '.', 'For', 'example', ',', 'if', 'you', 'were', 'analyzing', 'a', 'group', 'of', 'job', 'ads', ',', 'then', 'you', 'might', 'find', 'that', 'the', 'word', '“', 'Python', '”', 'comes', 'up', 'often', '.', 'That', 'could', 'suggest', 'high', 'demand', 'for', 'Python', 'knowledge', ',', 'but', 'you', '’', 'd', 'need', 'to', 'look', 'deeper', 'to', 'know', 'more', '.']\n"
          ]
        },
        {
          "output_type": "execute_result",
          "data": {
            "text/plain": [
              "89"
            ]
          },
          "metadata": {},
          "execution_count": 2
        }
      ]
    },
    {
      "cell_type": "code",
      "metadata": {
        "id": "JXhda-FD1fpT",
        "outputId": "cef1cc32-8c42-41ff-ac55-11fb813576ed",
        "colab": {
          "base_uri": "https://localhost:8080/"
        }
      },
      "source": [
        "# Sentence Tokenizing\n",
        "sentence_text = \"When you tokenize by sentence, you can analyze how those words relate to one another and see more context. Are there a lot of negative words around the word “Python” because the hiring manager doesn’t like Python? Are there more terms from the domain of herpetology than the domain of software development, suggesting that you may be dealing with an entirely different kind of python than you were expecting?\"\n",
        "sentences = sent_tokenize(sentence_text)\n",
        "print(sentences)\n",
        "len(sentences)"
      ],
      "execution_count": 5,
      "outputs": [
        {
          "output_type": "stream",
          "name": "stdout",
          "text": [
            "['When you tokenize by sentence, you can analyze how those words relate to one another and see more context.', 'Are there a lot of negative words around the word “Python” because the hiring manager doesn’t like Python?', 'Are there more terms from the domain of herpetology than the domain of software development, suggesting that you may be dealing with an entirely different kind of python than you were expecting?']\n"
          ]
        },
        {
          "output_type": "execute_result",
          "data": {
            "text/plain": [
              "3"
            ]
          },
          "metadata": {},
          "execution_count": 5
        }
      ]
    },
    {
      "cell_type": "markdown",
      "metadata": {
        "id": "XN6ddezd0Es6"
      },
      "source": [
        "## Stop Words Removal\n",
        "> Removing common English words that are insignificant for analysis"
      ]
    },
    {
      "cell_type": "code",
      "metadata": {
        "colab": {
          "base_uri": "https://localhost:8080/"
        },
        "id": "Ced1Z3gCz5Fo",
        "outputId": "2f3a47cb-f613-4f03-ca18-0c1bbdf2ac26"
      },
      "source": [
        "# Downloading and importing stopwords\n",
        "nltk.download('stopwords')\n",
        "from nltk.corpus import stopwords\n",
        "\n",
        "text = \"Stop words are words that you want to ignore, so you filter them out of your text when you’re processing it. Very common words like 'in', 'is', and 'an' are often used as stop words since they don’t add a lot of meaning to a text in and of themselves.\"\n",
        "words = word_tokenize(text)\n",
        "\n",
        "stop_words = set(stopwords.words(\"english\"))\n",
        "significant_words = [word for word in words if word.casefold() not in stop_words]\n",
        "print(significant_words)\n",
        "len(significant_words)"
      ],
      "execution_count": 3,
      "outputs": [
        {
          "output_type": "stream",
          "name": "stdout",
          "text": [
            "[nltk_data] Downloading package stopwords to /root/nltk_data...\n",
            "[nltk_data]   Unzipping corpora/stopwords.zip.\n",
            "['Stop', 'words', 'words', 'want', 'ignore', ',', 'filter', 'text', '’', 'processing', '.', 'common', 'words', 'like', \"'in\", \"'\", ',', \"'is\", \"'\", ',', \"'an\", \"'\", 'often', 'used', 'stop', 'words', 'since', '’', 'add', 'lot', 'meaning', 'text', '.']\n"
          ]
        },
        {
          "output_type": "execute_result",
          "data": {
            "text/plain": [
              "33"
            ]
          },
          "metadata": {},
          "execution_count": 3
        }
      ]
    },
    {
      "cell_type": "markdown",
      "metadata": {
        "id": "j1xLoMj40SRo"
      },
      "source": [
        "## Stemming\n",
        "> Reducing words to their root (sometimes produce meaningless words)"
      ]
    },
    {
      "cell_type": "code",
      "metadata": {
        "colab": {
          "base_uri": "https://localhost:8080/"
        },
        "id": "ROFmzKQU0Dha",
        "outputId": "c3f4ea65-7091-40c1-83e1-a430f6d2c6d1"
      },
      "source": [
        "# Porter Stemmer\n",
        "from nltk.stem import PorterStemmer\n",
        "from nltk.tokenize import word_tokenize\n",
        "\n",
        "stemming_text = \"Stemming is a text processing task in which you reduce words to their root, which is the core part of a word. For example, the words “helping” and “helper” share the root “help.” Stemming allows you to zero in on the basic meaning of a word rather than all the details of how it’s being used. NLTK has more than one stemmer, but you’ll be using the Porter stemmer.\"\n",
        "stemmer = PorterStemmer()\n",
        "\n",
        "stemming_words = word_tokenize(stemming_text)\n",
        "\n",
        "stemmed_text = [stemmer.stem(word) for word in stemming_words]\n",
        "\n",
        "print(stemmed_text)"
      ],
      "execution_count": 4,
      "outputs": [
        {
          "output_type": "stream",
          "name": "stdout",
          "text": [
            "['stem', 'is', 'a', 'text', 'process', 'task', 'in', 'which', 'you', 'reduc', 'word', 'to', 'their', 'root', ',', 'which', 'is', 'the', 'core', 'part', 'of', 'a', 'word', '.', 'for', 'exampl', ',', 'the', 'word', '“', 'help', '”', 'and', '“', 'helper', '”', 'share', 'the', 'root', '“', 'help.', '”', 'stem', 'allow', 'you', 'to', 'zero', 'in', 'on', 'the', 'basic', 'mean', 'of', 'a', 'word', 'rather', 'than', 'all', 'the', 'detail', 'of', 'how', 'it', '’', 's', 'be', 'use', '.', 'nltk', 'ha', 'more', 'than', 'one', 'stemmer', ',', 'but', 'you', '’', 'll', 'be', 'use', 'the', 'porter', 'stemmer', '.']\n"
          ]
        }
      ]
    },
    {
      "cell_type": "markdown",
      "metadata": {
        "id": "YIAyPEOb0a65"
      },
      "source": [
        "## Lemmatization\n",
        "> Reducing words to their `lemma` (base or dictionary form of a word)"
      ]
    },
    {
      "cell_type": "code",
      "metadata": {
        "id": "tKOnru2W0YIj"
      },
      "source": [
        ""
      ],
      "execution_count": null,
      "outputs": []
    }
  ]
}