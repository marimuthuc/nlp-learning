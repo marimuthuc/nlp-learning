{
  "nbformat": 4,
  "nbformat_minor": 0,
  "metadata": {
    "colab": {
      "name": "rp-nltk.ipynb",
      "provenance": [],
      "collapsed_sections": [],
      "authorship_tag": "ABX9TyPV8nEvxXK10TSCYj9a/wIe",
      "include_colab_link": true
    },
    "kernelspec": {
      "name": "python3",
      "display_name": "Python 3"
    },
    "language_info": {
      "name": "python"
    }
  },
  "cells": [
    {
      "cell_type": "markdown",
      "metadata": {
        "id": "view-in-github",
        "colab_type": "text"
      },
      "source": [
        "<a href=\"https://colab.research.google.com/github/marimuthuc/nlp-learning/blob/main/rp_nltk.ipynb\" target=\"_parent\"><img src=\"https://colab.research.google.com/assets/colab-badge.svg\" alt=\"Open In Colab\"/></a>"
      ]
    },
    {
      "cell_type": "markdown",
      "metadata": {
        "id": "Nhom1FsaBJF0"
      },
      "source": [
        "#Basics of NLP with NLTK Library\n",
        "This notebook explores the basics concepts like tokenization, lemmatization, stemming, etc with the help of NLTK library. \n",
        "> Reference: https://realpython.com/nltk-nlp-python/"
      ]
    },
    {
      "cell_type": "code",
      "metadata": {
        "id": "aV3_f2xtAq6t"
      },
      "source": [
        ""
      ],
      "execution_count": null,
      "outputs": []
    }
  ]
}